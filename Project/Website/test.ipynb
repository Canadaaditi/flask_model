{
 "cells": [
  {
   "cell_type": "code",
   "execution_count": 2,
   "metadata": {},
   "outputs": [],
   "source": [
    "from flask import Flask, render_template, request\n",
    "import sqlite3\n",
    "import pandas as pd\n",
    "import joblib\n",
    "import pickle"
   ]
  },
  {
   "cell_type": "code",
   "execution_count": 3,
   "metadata": {},
   "outputs": [],
   "source": [
    "# app = Flask(__name__)\n",
    "# with open('titanic_regression_model','rb') as file:\n",
    "#     model=pickle.load(file)"
   ]
  },
  {
   "cell_type": "code",
   "execution_count": 4,
   "metadata": {},
   "outputs": [],
   "source": [
    "app=Flask(__name__)\n",
    "model=joblib.load('titanic_regression_model')\n",
    "@app.route('/')\n",
    "def home(name=None):\n",
    "    \n",
    "        return render_template('titanic_regression.html',name=name)\n",
    "        #render_template('index.html',name=name)\n",
    "    \n",
    "@app.route('/regression_prediction\"',methods=[\"GET\",\"POST\"])\n",
    "def get_value():\n",
    "    if request.method==\"POST\": \n",
    "        Pclass=int(request.form.get('pclass'))\n",
    "        Age =int (request.form.get('age'))\n",
    "        Sibsp=int(request.form.get('sibsp'))\n",
    "        Parch=int(request.form.get('parch'))\n",
    "        Embarked=float(request.form.get('embarked'))\n",
    "\n",
    "        ss=model.predict([[ Pclass, Age, Sibsp, Parch,Embarked ]])\n",
    "    return render_template('regression_prediction.html',prediction=ss)\n",
    "        "
   ]
  },
  {
   "cell_type": "code",
   "execution_count": 5,
   "metadata": {},
   "outputs": [],
   "source": [
    "# @app.route(\"/predict_titanic_regression\", methods=['POST', 'GET'])\n",
    "\n",
    "# def Survival():\n",
    "\n",
    "#         # PassengerId=int(request.form['Passengerld'])\n",
    "        \n",
    "# # \n",
    "#         Pclass=int(request.form.get['pclass'])\n",
    "#         Age =int (request.form.get['age'])\n",
    "#         Sibsp=int(request.form.get['sibsp'])\n",
    "#         Parch=int(request.form.get['parch'])\n",
    "#         Embarked=float(request.form.get['embarked'])\n",
    "\n",
    "#         ss=model.predict([[ Pclass, Age, Sibsp, Parch,Embarked ]])\n",
    "\n",
    "#         return render_template('regression_prediction.html', prediction=ss)\n"
   ]
  },
  {
   "cell_type": "code",
   "execution_count": 6,
   "metadata": {},
   "outputs": [
    {
     "name": "stdout",
     "output_type": "stream",
     "text": [
      " * Serving Flask app '__main__'\n",
      " * Debug mode: off\n"
     ]
    },
    {
     "name": "stderr",
     "output_type": "stream",
     "text": [
      "WARNING: This is a development server. Do not use it in a production deployment. Use a production WSGI server instead.\n",
      " * Running on http://127.0.0.1:8888\n",
      "Press CTRL+C to quit\n"
     ]
    },
    {
     "name": "stderr",
     "output_type": "stream",
     "text": [
      "127.0.0.1 - - [11/Apr/2024 07:38:08] \"GET / HTTP/1.1\" 200 -\n",
      "127.0.0.1 - - [11/Apr/2024 07:38:08] \"GET /static/styles.css HTTP/1.1\" 304 -\n",
      "c:\\Users\\apath\\AppData\\Local\\Programs\\Python\\Python311\\Lib\\site-packages\\sklearn\\base.py:493: UserWarning: X does not have valid feature names, but LinearRegression was fitted with feature names\n",
      "  warnings.warn(\n",
      "127.0.0.1 - - [11/Apr/2024 07:38:13] \"POST /regression_prediction\" HTTP/1.1\" 200 -\n"
     ]
    }
   ],
   "source": [
    "if __name__ == '__main__':\n",
    "    app.run(port=8888)"
   ]
  },
  {
   "cell_type": "code",
   "execution_count": null,
   "metadata": {},
   "outputs": [],
   "source": []
  }
 ],
 "metadata": {
  "kernelspec": {
   "display_name": "Python 3",
   "language": "python",
   "name": "python3"
  },
  "language_info": {
   "codemirror_mode": {
    "name": "ipython",
    "version": 3
   },
   "file_extension": ".py",
   "mimetype": "text/x-python",
   "name": "python",
   "nbconvert_exporter": "python",
   "pygments_lexer": "ipython3",
   "version": "3.11.6"
  }
 },
 "nbformat": 4,
 "nbformat_minor": 2
}
